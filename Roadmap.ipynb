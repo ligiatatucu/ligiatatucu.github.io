{
  "nbformat": 4,
  "nbformat_minor": 0,
  "metadata": {
    "colab": {
      "provenance": [],
      "authorship_tag": "ABX9TyMWeGgPr7eWZl8f9yjEVujH",
      "include_colab_link": true
    },
    "kernelspec": {
      "name": "python3",
      "display_name": "Python 3"
    },
    "language_info": {
      "name": "python"
    }
  },
  "cells": [
    {
      "cell_type": "markdown",
      "metadata": {
        "id": "view-in-github",
        "colab_type": "text"
      },
      "source": [
        "<a href=\"https://colab.research.google.com/github/ligiatatucu/ligiatatucu.github.io/blob/master/Roadmap.ipynb\" target=\"_parent\"><img src=\"https://colab.research.google.com/assets/colab-badge.svg\" alt=\"Open In Colab\"/></a>"
      ]
    },
    {
      "cell_type": "code",
      "execution_count": null,
      "metadata": {
        "id": "7E_Cqz6dIDuU"
      },
      "outputs": [],
      "source": []
    },
    {
      "cell_type": "code",
      "source": [
        "import numpy as np"
      ],
      "metadata": {
        "id": "DXyyWE1bIIZz"
      },
      "execution_count": 1,
      "outputs": []
    },
    {
      "cell_type": "code",
      "source": [
        "class Vertex:\n",
        "  def __init__(self,label,distance_objective):\n",
        "    self.label = label\n",
        "    self.visited = False\n",
        "    self.distance_objective = distance_objective\n",
        "    self.adjacent = []\n",
        "\n",
        "  def add_adjacent(self, adjacent):\n",
        "    self.adjacent.append(adjacent)\n",
        "\n",
        "  def print_adjacent(self):\n",
        "    for i in self.adjacent:\n",
        "      print(i.vertex.label, i.cost)"
      ],
      "metadata": {
        "id": "RMqx6k_cIZ78"
      },
      "execution_count": 2,
      "outputs": []
    },
    {
      "cell_type": "code",
      "source": [
        "class Adjacent:\n",
        "  def __init__(self,vertex,cost):\n",
        "    self.vertex = vertex\n",
        "    self.cost = cost"
      ],
      "metadata": {
        "id": "L4M9BJGIWAh9"
      },
      "execution_count": 3,
      "outputs": []
    },
    {
      "cell_type": "code",
      "source": [
        "\n",
        "class Graph:\n",
        "  portoUniao = Vertex(\"Porto União\", 203)\n",
        "  pauloFrontin = Vertex(\"Paulo Frontin\", 172)\n",
        "  canoinhas = Vertex(\"Canoinhas\", 141)\n",
        "  irati = Vertex(\"Irati\", 138)\n",
        "  palmeira = Vertex(\"Palmeira\", 59)\n",
        "  campoLargo = Vertex(\"Campo Largo\", 27)\n",
        "  curitiba = Vertex(\"Curitiba\", 0)\n",
        "  balsaNova = Vertex(\"Balsa Nova\", 41)\n",
        "  araucaria = Vertex(\"Araucária\", 23)\n",
        "  saoJose = Vertex(\"São José\", 13)\n",
        "  contenda = Vertex(\"Contenda\", 39)\n",
        "  mafra = Vertex(\"Mafra\", 94)\n",
        "  tijucas = Vertex(\"Tijucas do Sul\", 56)\n",
        "  lapa = Vertex(\"Lapa\", 74)\n",
        "  saoMateus= Vertex(\"São Mateus do Sul\", 123)\n",
        "  tresBarras = Vertex(\"Três Barras\", 131)\n",
        "\n",
        "  portoUniao.add_adjacent(Adjacent(pauloFrontin, 46))\n",
        "  portoUniao.add_adjacent(Adjacent(canoinhas, 78))\n",
        "  portoUniao.add_adjacent(Adjacent(saoMateus, 87))\n",
        "\n",
        "  pauloFrontin.add_adjacent(Adjacent(portoUniao, 46))\n",
        "  pauloFrontin.add_adjacent(Adjacent(canoinhas, 75))\n",
        "\n",
        "  canoinhas.add_adjacent(Adjacent(portoUniao, 78))\n",
        "  canoinhas.add_adjacent(Adjacent(tresBarras, 12))\n",
        "  canoinhas.add_adjacent(Adjacent(mafra, 66))\n",
        "\n",
        "  irati.add_adjacent(Adjacent(pauloFrontin, 75))\n",
        "  irati.add_adjacent(Adjacent(palmeira, 75))\n",
        "  irati.add_adjacent(Adjacent(saoMateus, 57))\n",
        "\n",
        "  palmeira.add_adjacent(Adjacent(irati, 75))\n",
        "  palmeira.add_adjacent(Adjacent(saoMateus, 77))\n",
        "  palmeira.add_adjacent(Adjacent(campoLargo, 55))\n",
        "\n",
        "  campoLargo.add_adjacent(Adjacent(palmeira, 55))\n",
        "  campoLargo.add_adjacent(Adjacent(balsaNova, 22))\n",
        "  campoLargo.add_adjacent(Adjacent(curitiba, 29))\n",
        "\n",
        "  curitiba.add_adjacent(Adjacent(campoLargo, 29))\n",
        "  curitiba.add_adjacent(Adjacent(balsaNova, 51))\n",
        "  curitiba.add_adjacent(Adjacent(araucaria, 37))\n",
        "  curitiba.add_adjacent(Adjacent(saoJose, 15))\n",
        "\n",
        "  balsaNova.add_adjacent(Adjacent(curitiba, 51))\n",
        "  balsaNova.add_adjacent(Adjacent(campoLargo, 22))\n",
        "  balsaNova.add_adjacent(Adjacent(contenda, 19))\n",
        "\n",
        "  araucaria.add_adjacent(Adjacent(curitiba, 37))\n",
        "  araucaria.add_adjacent(Adjacent(contenda, 18))\n",
        "\n",
        "  saoJose.add_adjacent(Adjacent(curitiba, 15))\n",
        "  saoJose.add_adjacent(Adjacent(tijucas, 49))\n",
        "\n",
        "  contenda.add_adjacent(Adjacent(balsaNova, 19))\n",
        "  contenda.add_adjacent(Adjacent(araucaria, 18))\n",
        "  contenda.add_adjacent(Adjacent(lapa, 26))\n",
        "\n",
        "  mafra.add_adjacent(Adjacent(tijucas, 99))\n",
        "  mafra.add_adjacent(Adjacent(lapa, 57))\n",
        "  mafra.add_adjacent(Adjacent(canoinhas, 66))\n",
        "\n",
        "  tijucas.add_adjacent(Adjacent(mafra, 99))\n",
        "  tijucas.add_adjacent(Adjacent(saoJose, 49))\n",
        "\n",
        "  lapa.add_adjacent(Adjacent(contenda, 26))\n",
        "  lapa.add_adjacent(Adjacent(saoMateus, 60))\n",
        "  lapa.add_adjacent(Adjacent(mafra, 57))\n",
        "\n",
        "  saoMateus.add_adjacent(Adjacent(palmeira, 77))\n",
        "  saoMateus.add_adjacent(Adjacent(irati, 57))\n",
        "  saoMateus.add_adjacent(Adjacent(lapa, 60))\n",
        "  saoMateus.add_adjacent(Adjacent(tresBarras, 43))\n",
        "  saoMateus.add_adjacent(Adjacent(portoUniao, 87))\n",
        "\n",
        "  tresBarras.add_adjacent(Adjacent(saoMateus, 43))\n",
        "  tresBarras.add_adjacent(Adjacent(canoinhas, 12))\n"
      ],
      "metadata": {
        "id": "sYvLpUgjW6f2"
      },
      "execution_count": 4,
      "outputs": []
    },
    {
      "cell_type": "code",
      "source": [
        "graph = Graph()"
      ],
      "metadata": {
        "id": "9q7ysIPMrdOZ"
      },
      "execution_count": 5,
      "outputs": []
    },
    {
      "cell_type": "markdown",
      "source": [
        "### **Ordered Array**"
      ],
      "metadata": {
        "id": "6JybGqQjkvgb"
      }
    },
    {
      "cell_type": "code",
      "source": [
        "class OrderedArray:\n",
        "  def __init__(self,capacity):\n",
        "    self.capacity = capacity\n",
        "    self.last_position = -1\n",
        "    self.values = np.empty(self.capacity, dtype=object)\n",
        "\n",
        "  def print(self):\n",
        "    if self.last_position == -1:\n",
        "      print('The array is empty')\n",
        "    else:\n",
        "      for i in range(self.last_position + 1):\n",
        "        print(i, '-', self.values[i].label, '-', self.values[i].distance_objective)\n",
        "\n",
        "  def insert(self, vertex):\n",
        "    if self.last_position == self.capacity  - 1:\n",
        "      print('Maximum capacity has been reached')\n",
        "      return\n",
        "\n",
        "    position = 0\n",
        "    for i in range(self.last_position + 1):\n",
        "      position = i\n",
        "      if self.values[i].distance_objective > vertex.distance_objective:\n",
        "        break\n",
        "      if i == self.last_position:\n",
        "        position = i + 1\n",
        "\n",
        "    x = self.last_position\n",
        "    while x>= position:\n",
        "      self.values[x+1] = self.values[x]\n",
        "      x=x-1\n",
        "\n",
        "    self.values[x+1] = vertex\n",
        "    self.last_position += 1\n",
        "\n",
        "\n"
      ],
      "metadata": {
        "id": "4UfDq14pkzz5"
      },
      "execution_count": 6,
      "outputs": []
    },
    {
      "cell_type": "code",
      "source": [
        "array = OrderedArray(5)\n"
      ],
      "metadata": {
        "id": "hTtzlZv4vUhz"
      },
      "execution_count": 7,
      "outputs": []
    },
    {
      "cell_type": "code",
      "source": [
        "array.print()"
      ],
      "metadata": {
        "colab": {
          "base_uri": "https://localhost:8080/"
        },
        "id": "lZckU0F6vddz",
        "outputId": "d23b46c1-6fca-4c9c-abec-a39ca19834cb"
      },
      "execution_count": 8,
      "outputs": [
        {
          "output_type": "stream",
          "name": "stdout",
          "text": [
            "The array is empty\n"
          ]
        }
      ]
    },
    {
      "cell_type": "code",
      "source": [
        "array.insert(graph.portoUniao)\n",
        "array.insert(graph.pauloFrontin)\n",
        "array.insert(graph.canoinhas)\n",
        "array.insert(graph.irati)\n",
        "array.insert(graph.palmeira)"
      ],
      "metadata": {
        "id": "d30Vwl8xvhqY"
      },
      "execution_count": 9,
      "outputs": []
    },
    {
      "cell_type": "code",
      "source": [
        "array.print()\n"
      ],
      "metadata": {
        "colab": {
          "base_uri": "https://localhost:8080/"
        },
        "id": "-C5-mH49xAnC",
        "outputId": "72f32b86-6c33-43c5-d2ab-4b5e7be0d4e2"
      },
      "execution_count": 10,
      "outputs": [
        {
          "output_type": "stream",
          "name": "stdout",
          "text": [
            "0 - Palmeira - 59\n",
            "1 - Irati - 138\n",
            "2 - Canoinhas - 141\n",
            "3 - Paulo Frontin - 172\n",
            "4 - Porto União - 203\n"
          ]
        }
      ]
    },
    {
      "cell_type": "markdown",
      "source": [
        "**Greedy Search**"
      ],
      "metadata": {
        "id": "IBxohPIdymc3"
      }
    },
    {
      "cell_type": "code",
      "source": [
        "class GreedySearch:\n",
        "  def __init__(self,objective):\n",
        "    self.objective = objective\n",
        "    self.found = False\n",
        "\n",
        "  def search(self, current):\n",
        "    print('----')\n",
        "    print('Current: {}'.format(current.label))\n",
        "    current.visited = True\n",
        "    if current == self.objective:\n",
        "      self.found = True\n",
        "    else:\n",
        "      ordered_array = OrderedArray(len(current.adjacent))\n",
        "      #we search for the unvisited graphs\n",
        "      for adjacent in current.adjacent:\n",
        "        if adjacent.vertex.visited == False:\n",
        "          ordered_array.insert(adjacent.vertex)\n",
        "      ordered_array.print()\n",
        "\n",
        "      #we chech if the array has elements\n",
        "      if ordered_array.values[0] != None:\n",
        "        self.search(ordered_array.values[0])"
      ],
      "metadata": {
        "id": "F1ca4-VYyyqL"
      },
      "execution_count": 11,
      "outputs": []
    },
    {
      "cell_type": "code",
      "source": [
        "greedy_search = GreedySearch(graph.curitiba)\n",
        "greedy_search.search(graph.portoUniao)\n"
      ],
      "metadata": {
        "colab": {
          "base_uri": "https://localhost:8080/"
        },
        "id": "c7IEep-DfKNC",
        "outputId": "e8faadfc-0269-4086-c4c5-0c8d6ce80799"
      },
      "execution_count": 12,
      "outputs": [
        {
          "output_type": "stream",
          "name": "stdout",
          "text": [
            "----\n",
            "Current: Porto União\n",
            "0 - São Mateus do Sul - 123\n",
            "1 - Canoinhas - 141\n",
            "2 - Paulo Frontin - 172\n",
            "----\n",
            "Current: São Mateus do Sul\n",
            "0 - Palmeira - 59\n",
            "1 - Lapa - 74\n",
            "2 - Três Barras - 131\n",
            "3 - Irati - 138\n",
            "----\n",
            "Current: Palmeira\n",
            "0 - Campo Largo - 27\n",
            "1 - Irati - 138\n",
            "----\n",
            "Current: Campo Largo\n",
            "0 - Curitiba - 0\n",
            "1 - Balsa Nova - 41\n",
            "----\n",
            "Current: Curitiba\n"
          ]
        }
      ]
    }
  ]
}